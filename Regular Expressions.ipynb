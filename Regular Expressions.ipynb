{
 "cells": [
  {
   "cell_type": "code",
   "execution_count": 10,
   "metadata": {},
   "outputs": [
    {
     "name": "stdout",
     "output_type": "stream",
     "text": [
      "abc\n",
      "coreyms.com\n"
     ]
    }
   ],
   "source": [
    "# YouTube Video: https://www.youtube.com/watch?v=K8L6KVGG-7o\n",
    "\n",
    "import re\n",
    "\n",
    "text_to_search = '''\n",
    "abcdefghijklmnopqurtuvwxyz\n",
    "ABCDEFGHIJKLMNOPQRSTUVWXYZ\n",
    "1234567890\n",
    "Ha HaHa\n",
    "MetaCharacters (Need to be escaped):\n",
    ". ^ $ * + ? { } [ ] \\ | ( )\n",
    "coreyms.com\n",
    "321-555-4321\n",
    "123.555.1234\n",
    "123*555*1234\n",
    "800-555-1234\n",
    "900-555-1234\n",
    "Mr. Schafer\n",
    "Mr Smith\n",
    "Ms Davis\n",
    "Mrs. Robinson\n",
    "Mr. T\n",
    "\n",
    "cat\n",
    "mat\n",
    "pat\n",
    "bat\n",
    "'''\n",
    "\n",
    "emails = '''\n",
    "CoreyMSchafer@gmail.com\n",
    "corey.schafer@university.edu\n",
    "corey-321-schafer@my-work.net\n",
    "'''\n",
    "\n",
    "urls = '''\n",
    "https://www.google.com\n",
    "http://coreyms.com\n",
    "https://youtube.com\n",
    "https://www.nasa.gov\n",
    "'''\n",
    "\n",
    "sentence = 'Start a sentence and then bring it to an end'\n",
    "\n",
    "def do_regex_match(pat, t2s = text_to_search, grp = 0):\n",
    "    pattern = re.compile(pat)\n",
    "    # pattern = re.compile(pat, re.I)   With IgnoreCase Flag\n",
    "    matches = pattern.finditer(t2s)\n",
    "    \n",
    "    for match in matches:\n",
    "        print(match.group(grp))\n",
    "        \n",
    "do_regex_match(r'abc')                   # General Matching\n",
    "do_regex_match(r'coreyms\\.com')"
   ]
  },
  {
   "cell_type": "code",
   "execution_count": 11,
   "metadata": {},
   "outputs": [
    {
     "name": "stdout",
     "output_type": "stream",
     "text": [
      "Ha\n",
      "Ha\n",
      "Start\n",
      "end\n"
     ]
    }
   ],
   "source": [
    "do_regex_match(r'\\bHa')                   # word boundary\n",
    "\n",
    "do_regex_match(r'^Start', sentence)       # ^ search at the start\n",
    "do_regex_match(r'end$', sentence)         # $ search in the end"
   ]
  },
  {
   "cell_type": "code",
   "execution_count": 12,
   "metadata": {},
   "outputs": [
    {
     "name": "stdout",
     "output_type": "stream",
     "text": [
      "321-555-4321\n",
      "123.555.1234\n",
      "800-555-1234\n",
      "900-555-1234\n",
      "800-555-1234\n",
      "900-555-1234\n",
      "321-555-4321\n",
      "123.555.1234\n",
      "800-555-1234\n",
      "900-555-1234\n",
      "cat\n",
      "mat\n",
      "pat\n"
     ]
    }
   ],
   "source": [
    "# Phone Number Matching\n",
    "do_regex_match(r'\\d\\d\\d[.-]\\d\\d\\d[.-]\\d\\d\\d\\d')\n",
    "do_regex_match(r'[89]00[.-]\\d\\d\\d[.-]\\d\\d\\d\\d')\n",
    "do_regex_match(r'\\d{3}[.-]\\d{3}[.-]\\d{4}')\n",
    "\n",
    "do_regex_match(r'[^b]at')"
   ]
  },
  {
   "cell_type": "code",
   "execution_count": 13,
   "metadata": {},
   "outputs": [
    {
     "name": "stdout",
     "output_type": "stream",
     "text": [
      "Mr.\n",
      "Mr\n",
      "Mr\n",
      "Mr.\n",
      "Mr. Schafer\n",
      "Mr Smith\n",
      "Mr. T\n",
      "Mr. Schafer\n",
      "Mr Smith\n",
      "Ms Davis\n",
      "Mrs. Robinson\n",
      "Mr. T\n"
     ]
    }
   ],
   "source": [
    "# Using Quantifiers\n",
    "do_regex_match(r'Mr\\.?')\n",
    "do_regex_match(r'Mr\\.?\\s[A-Z]\\w*')\n",
    "do_regex_match(r'M(r|s|rs)\\.??\\s[A-Z]\\w*')"
   ]
  },
  {
   "cell_type": "code",
   "execution_count": 14,
   "metadata": {},
   "outputs": [
    {
     "name": "stdout",
     "output_type": "stream",
     "text": [
      "CoreyMSchafer@gmail.com\n",
      "corey.schafer@university.edu\n",
      "corey-321-schafer@my-work.net\n"
     ]
    }
   ],
   "source": [
    "# Email Matching\n",
    "do_regex_match(r'[a-zA-Z0-9_.+-]+@[a-zA-Z0-9-]+\\.[a-zA-Z0-9-.]+', emails)"
   ]
  },
  {
   "cell_type": "code",
   "execution_count": 15,
   "metadata": {},
   "outputs": [
    {
     "name": "stdout",
     "output_type": "stream",
     "text": [
      "google\n",
      "coreyms\n",
      "youtube\n",
      "nasa\n"
     ]
    }
   ],
   "source": [
    "# URL Matching\n",
    "do_regex_match(r'https?://(www.)?(\\w+)(\\.\\w+)', urls, 2)"
   ]
  }
 ],
 "metadata": {
  "kernelspec": {
   "display_name": "Python 3",
   "language": "python",
   "name": "python3"
  },
  "language_info": {
   "codemirror_mode": {
    "name": "ipython",
    "version": 3
   },
   "file_extension": ".py",
   "mimetype": "text/x-python",
   "name": "python",
   "nbconvert_exporter": "python",
   "pygments_lexer": "ipython3",
   "version": "3.6.3"
  }
 },
 "nbformat": 4,
 "nbformat_minor": 2
}
